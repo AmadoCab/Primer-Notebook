{
 "cells": [
  {
   "cell_type": "markdown",
   "metadata": {},
   "source": [
    "# Este es mi primer _Notebook_ en Jupyter\n",
    "\n",
    "Se pueden hacer fácilmente títulos como el visto arriba o simplemente escribir normal podemos tambien porner **negrilla** o _cursiva_ e incluso poner algúna cita\n",
    "> Rima 21 de Bécquer\n",
    "\n",
    "Además de, claro, añadir código\n",
    "```python\n",
    "def hola(name):\n",
    "    if name == 'Mariana' or name == 'mariana':\n",
    "        print(f'Te amo mucho {name}')\n",
    "    else:\n",
    "        print(f'Hola {name}')\n",
    "```\n",
    "\n",
    "Se pueden poner formulas\n",
    "$$\\frac{1}{n!}\\prod_{k=0}^{n-1}q^{n}-q^{k}$$\n",
    "\n",
    "puedo hacer listas con pendientes:\n",
    "- [x] Hacer un _Markdown_ explicando todo lo que se puede hacer\n",
    "- [x] Importar los paquetes necesarios para que quede bonito\n",
    "- [x] Agregar los comandos mágicos de Jupyter\n",
    "- [ ] Poner código asombroso copiado para que se mire muy lindo y me sirva de guia en el futuro\n",
    "\n",
    "Puedo además de eso usar listas e items para especificar que va en cada uno de mis pendientes\n",
    "1. _Markdown_\n",
    "    - Tiene que haber un titulo\n",
    "    - Tiene que tener cursivas y negrillas\n",
    "    - Tiene que llevar citas y código\n",
    "    - Tiene que llevar fórmulas de $\\LaTeX$\n",
    "2. Importar paquetes\n",
    "    - numpy\n",
    "    - matplotlib\n",
    "    - pandas\n",
    "3. Comandos mágicos\n",
    "    - matplotlib inline\n",
    "    - timeit (que no estoy seguro si le falta algo)\n",
    "4. Código copiado\n",
    "    - Lo del video :kissing_closed_eyes:"
   ]
  },
  {
   "cell_type": "code",
   "execution_count": 1,
   "metadata": {},
   "outputs": [],
   "source": [
    "%matplotlib inline"
   ]
  },
  {
   "cell_type": "code",
   "execution_count": 2,
   "metadata": {},
   "outputs": [],
   "source": [
    "import matplotlib.pyplot as plt\n",
    "import numpy as np\n",
    "import pandas as pd"
   ]
  },
  {
   "cell_type": "markdown",
   "metadata": {},
   "source": [
    "## Explicacion de las celdas anteriores\n",
    "\n",
    "|  Paquete |Apodo |      Explicación      |\n",
    "|:---------|:----:|:----------------------|\n",
    "|matplotlib|  plt |     Hace graficos     |\n",
    "|  numpy   |  np  |Hace calculos dificiles|\n",
    "|  pandas  |  pd  |    Hace _noseque_     |"
   ]
  },
  {
   "cell_type": "markdown",
   "metadata": {},
   "source": [
    "### Matplotlib "
   ]
  },
  {
   "cell_type": "code",
   "execution_count": 3,
   "metadata": {},
   "outputs": [
    {
     "data": {
      "image/png": "[encoded data removed]",
      "text/plain": [
       "<Figure size 432x288 with 1 Axes>"
      ]
     },
     "metadata": {
      "needs_background": "light"
     },
     "output_type": "display_data"
    }
   ],
   "source": [
    "\"\"\"\n",
    "Simple demo of a scatter plot.\n",
    "\"\"\"\n",
    "\n",
    "N = 50\n",
    "x = np.random.rand(N)\n",
    "y = np.random.rand(N)\n",
    "colors = np.random.rand(N)\n",
    "area = np.pi * (15 * np.random.rand(N))**2 # 0 to 15 points radiuses\n",
    "\n",
    "plt.scatter(x, y, s=area, c=colors, alpha=0.5)\n",
    "plt.show()"
   ]
  },
  {
   "cell_type": "markdown",
   "metadata": {},
   "source": [
    "### Magic Jupyter"
   ]
  },
  {
   "cell_type": "code",
   "execution_count": 4,
   "metadata": {},
   "outputs": [
    {
     "data": {
      "text/html": [
       "<iframe width=\"560\" height=\"315\" src=\"https://www.youtube.com/embed/HQukATmhFMo\" frameborder=\"0\" allow=\"accelerometer; autoplay; encrypted-media; gyroscope; picture-in-picture\" allowfullscreen></iframe>\n"
      ],
      "text/plain": [
       "<IPython.core.display.HTML object>"
      ]
     },
     "metadata": {},
     "output_type": "display_data"
    }
   ],
   "source": [
    "%%HTML\n",
    "<iframe width=\"560\" height=\"315\" src=\"https://www.youtube.com/embed/HQukATmhFMo\" frameborder=\"0\" allow=\"accelerometer; autoplay; encrypted-media; gyroscope; picture-in-picture\" allowfullscreen></iframe>"
   ]
  },
  {
   "cell_type": "code",
   "execution_count": 5,
   "metadata": {},
   "outputs": [
    {
     "name": "stdout",
     "output_type": "stream",
     "text": [
      "113 µs ± 10.9 µs per loop (mean ± std. dev. of 7 runs, 10000 loops each)\n"
     ]
    }
   ],
   "source": [
    "%%timeit\n",
    "squere_events = [n*n for n in range(1000)]"
   ]
  },
  {
   "cell_type": "markdown",
   "metadata": {},
   "source": [
    "### Pandas "
   ]
  },
  {
   "cell_type": "code",
   "execution_count": 6,
   "metadata": {},
   "outputs": [
    {
     "data": {
      "text/html": [
       "<div>\n",
       "<style scoped>\n",
       "    .dataframe tbody tr th:only-of-type {\n",
       "        vertical-align: middle;\n",
       "    }\n",
       "\n",
       "    .dataframe tbody tr th {\n",
       "        vertical-align: top;\n",
       "    }\n",
       "\n",
       "    .dataframe thead th {\n",
       "        text-align: right;\n",
       "    }\n",
       "</style>\n",
       "<table border=\"1\" class=\"dataframe\">\n",
       "  <thead>\n",
       "    <tr style=\"text-align: right;\">\n",
       "      <th></th>\n",
       "      <th>0</th>\n",
       "      <th>1</th>\n",
       "      <th>2</th>\n",
       "      <th>3</th>\n",
       "      <th>4</th>\n",
       "    </tr>\n",
       "  </thead>\n",
       "  <tbody>\n",
       "    <tr>\n",
       "      <th>0</th>\n",
       "      <td>0.921901</td>\n",
       "      <td>-1.490636</td>\n",
       "      <td>-0.069723</td>\n",
       "      <td>1.725370</td>\n",
       "      <td>0.212763</td>\n",
       "    </tr>\n",
       "    <tr>\n",
       "      <th>1</th>\n",
       "      <td>-0.944356</td>\n",
       "      <td>-0.723462</td>\n",
       "      <td>0.340645</td>\n",
       "      <td>-0.273433</td>\n",
       "      <td>-0.152801</td>\n",
       "    </tr>\n",
       "    <tr>\n",
       "      <th>2</th>\n",
       "      <td>0.928750</td>\n",
       "      <td>0.411789</td>\n",
       "      <td>-0.193192</td>\n",
       "      <td>-0.543525</td>\n",
       "      <td>0.633551</td>\n",
       "    </tr>\n",
       "    <tr>\n",
       "      <th>3</th>\n",
       "      <td>-0.266151</td>\n",
       "      <td>1.169585</td>\n",
       "      <td>1.638097</td>\n",
       "      <td>-0.831996</td>\n",
       "      <td>-0.742084</td>\n",
       "    </tr>\n",
       "    <tr>\n",
       "      <th>4</th>\n",
       "      <td>-0.142230</td>\n",
       "      <td>-0.516021</td>\n",
       "      <td>-2.721578</td>\n",
       "      <td>0.068638</td>\n",
       "      <td>0.725775</td>\n",
       "    </tr>\n",
       "    <tr>\n",
       "      <th>5</th>\n",
       "      <td>1.364711</td>\n",
       "      <td>0.991143</td>\n",
       "      <td>-0.125547</td>\n",
       "      <td>-1.213706</td>\n",
       "      <td>-0.180304</td>\n",
       "    </tr>\n",
       "    <tr>\n",
       "      <th>6</th>\n",
       "      <td>-0.236869</td>\n",
       "      <td>-1.131126</td>\n",
       "      <td>-1.340223</td>\n",
       "      <td>0.063444</td>\n",
       "      <td>0.991605</td>\n",
       "    </tr>\n",
       "    <tr>\n",
       "      <th>7</th>\n",
       "      <td>-2.083797</td>\n",
       "      <td>0.289243</td>\n",
       "      <td>1.205956</td>\n",
       "      <td>-0.036209</td>\n",
       "      <td>0.263359</td>\n",
       "    </tr>\n",
       "    <tr>\n",
       "      <th>8</th>\n",
       "      <td>1.045715</td>\n",
       "      <td>-2.366709</td>\n",
       "      <td>-0.432295</td>\n",
       "      <td>0.224351</td>\n",
       "      <td>1.881925</td>\n",
       "    </tr>\n",
       "    <tr>\n",
       "      <th>9</th>\n",
       "      <td>0.438716</td>\n",
       "      <td>-1.593602</td>\n",
       "      <td>1.329885</td>\n",
       "      <td>0.027430</td>\n",
       "      <td>0.610696</td>\n",
       "    </tr>\n",
       "  </tbody>\n",
       "</table>\n",
       "</div>"
      ],
      "text/plain": [
       "          0         1         2         3         4\n",
       "0  0.921901 -1.490636 -0.069723  1.725370  0.212763\n",
       "1 -0.944356 -0.723462  0.340645 -0.273433 -0.152801\n",
       "2  0.928750  0.411789 -0.193192 -0.543525  0.633551\n",
       "3 -0.266151  1.169585  1.638097 -0.831996 -0.742084\n",
       "4 -0.142230 -0.516021 -2.721578  0.068638  0.725775\n",
       "5  1.364711  0.991143 -0.125547 -1.213706 -0.180304\n",
       "6 -0.236869 -1.131126 -1.340223  0.063444  0.991605\n",
       "7 -2.083797  0.289243  1.205956 -0.036209  0.263359\n",
       "8  1.045715 -2.366709 -0.432295  0.224351  1.881925\n",
       "9  0.438716 -1.593602  1.329885  0.027430  0.610696"
      ]
     },
     "execution_count": 6,
     "metadata": {},
     "output_type": "execute_result"
    }
   ],
   "source": [
    "df = pd.DataFrame(np.random.randn(10,5))\n",
    "df"
   ]
  }
 ],
 "metadata": {
  "kernelspec": {
   "display_name": "Python 3",
   "language": "python",
   "name": "python3"
  },
  "language_info": {
   "codemirror_mode": {
    "name": "ipython",
    "version": 3
   },
   "file_extension": ".py",
   "mimetype": "text/x-python",
   "name": "python",
   "nbconvert_exporter": "python",
   "pygments_lexer": "ipython3",
   "version": "3.7.3"
  }
 },
 "nbformat": 4,
 "nbformat_minor": 2
}
